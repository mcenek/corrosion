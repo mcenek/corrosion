{
 "cells": [
  {
   "cell_type": "code",
   "execution_count": 1,
   "metadata": {},
   "outputs": [
    {
     "name": "stderr",
     "output_type": "stream",
     "text": [
      "/Users/gem/Library/Python/3.6/lib/python/site-packages/h5py/__init__.py:36: FutureWarning: Conversion of the second argument of issubdtype from `float` to `np.floating` is deprecated. In future, it will be treated as `np.float64 == np.dtype(float).type`.\n",
      "  from ._conv import register_converters as _register_converters\n",
      "Using TensorFlow backend.\n"
     ]
    }
   ],
   "source": [
    "import tensorflow as tf\n",
    "import keras\n",
    "from keras.models import Sequential\n",
    "from keras.layers import Dense, Dropout, Flatten\n",
    "from keras.layers import Conv2D, MaxPooling2D\n",
    "from keras import backend as K\n",
    "from sklearn.model_selection import train_test_split\n",
    "import dakpy\n",
    "import cv2\n",
    "import numpy as np\n",
    "import os\n",
    "import matplotlib.pyplot as plt"
   ]
  },
  {
   "cell_type": "code",
   "execution_count": 2,
   "metadata": {},
   "outputs": [],
   "source": [
    "np.set_printoptions(threshold=np.inf)"
   ]
  },
  {
   "cell_type": "code",
   "execution_count": 3,
   "metadata": {},
   "outputs": [],
   "source": [
    "#preping the file paths so that each is in numerical order\n",
    "\n",
    "#change this to where the top level data file is saved\n",
    "path = '/Users/gem/Desktop/Corrosion Data cropped/'\n",
    "\n",
    "a = os.listdir(path + 'Mono/Ground Truth')\n",
    "b = os.listdir(path + 'Mono/Depth')\n",
    "c = os.listdir(path + 'Non Mono/Ground Truth')\n",
    "d = os.listdir(path + 'Non Mono/Depth')\n",
    "\n",
    "a.sort()\n",
    "b.sort()\n",
    "c.sort()\n",
    "d.sort()\n",
    "\n",
    "a = sorted(a, key=len)\n",
    "b = sorted(b, key=len)\n",
    "c = sorted(c, key=len)\n",
    "d = sorted(d, key=len)"
   ]
  },
  {
   "cell_type": "code",
   "execution_count": 8,
   "metadata": {},
   "outputs": [
    {
     "name": "stdout",
     "output_type": "stream",
     "text": [
      "['/Users/gem/Desktop/Corrosion Data cropped/Mono/Ground Truth/gt_mono_1.png', '/Users/gem/Desktop/Corrosion Data cropped/Mono/Ground Truth/gt_mono_2.png', '/Users/gem/Desktop/Corrosion Data cropped/Mono/Ground Truth/gt_mono_3.png', '/Users/gem/Desktop/Corrosion Data cropped/Mono/Ground Truth/gt_mono_4.png', '/Users/gem/Desktop/Corrosion Data cropped/Mono/Ground Truth/gt_mono_5.png', '/Users/gem/Desktop/Corrosion Data cropped/Mono/Ground Truth/gt_mono_6.png', '/Users/gem/Desktop/Corrosion Data cropped/Mono/Ground Truth/gt_mono_7.png', '/Users/gem/Desktop/Corrosion Data cropped/Mono/Ground Truth/gt_mono_8.png', '/Users/gem/Desktop/Corrosion Data cropped/Mono/Ground Truth/gt_mono_9.png', '/Users/gem/Desktop/Corrosion Data cropped/Mono/Ground Truth/gt_mono_10.png', '/Users/gem/Desktop/Corrosion Data cropped/Mono/Ground Truth/gt_mono_11.png', '/Users/gem/Desktop/Corrosion Data cropped/Mono/Ground Truth/gt_mono_12.png', '/Users/gem/Desktop/Corrosion Data cropped/Mono/Ground Truth/gt_mono_13.png', '/Users/gem/Desktop/Corrosion Data cropped/Mono/Ground Truth/gt_mono_14.png', '/Users/gem/Desktop/Corrosion Data cropped/Mono/Ground Truth/gt_mono_15.png', '/Users/gem/Desktop/Corrosion Data cropped/Mono/Ground Truth/gt_mono_16.png', '/Users/gem/Desktop/Corrosion Data cropped/Mono/Ground Truth/gt_mono_17.png', '/Users/gem/Desktop/Corrosion Data cropped/Mono/Ground Truth/gt_mono_18.png', '/Users/gem/Desktop/Corrosion Data cropped/Mono/Ground Truth/gt_mono_19.png', '/Users/gem/Desktop/Corrosion Data cropped/Mono/Ground Truth/gt_mono_20.png', '/Users/gem/Desktop/Corrosion Data cropped/Mono/Ground Truth/gt_mono_21.png', '/Users/gem/Desktop/Corrosion Data cropped/Mono/Ground Truth/gt_mono_22.png', '/Users/gem/Desktop/Corrosion Data cropped/Mono/Ground Truth/gt_mono_23.png', '/Users/gem/Desktop/Corrosion Data cropped/Mono/Ground Truth/gt_mono_24.png', '/Users/gem/Desktop/Corrosion Data cropped/Mono/Ground Truth/gt_mono_25.png']\n",
      "['/Users/gem/Desktop/Corrosion Data cropped/Mono/Depth/Depth_mono_1.png', '/Users/gem/Desktop/Corrosion Data cropped/Mono/Depth/Depth_mono_2.png', '/Users/gem/Desktop/Corrosion Data cropped/Mono/Depth/Depth_mono_3.png', '/Users/gem/Desktop/Corrosion Data cropped/Mono/Depth/Depth_mono_4.png', '/Users/gem/Desktop/Corrosion Data cropped/Mono/Depth/Depth_mono_5.png', '/Users/gem/Desktop/Corrosion Data cropped/Mono/Depth/Depth_mono_6.png', '/Users/gem/Desktop/Corrosion Data cropped/Mono/Depth/Depth_mono_7.png', '/Users/gem/Desktop/Corrosion Data cropped/Mono/Depth/Depth_mono_8.png', '/Users/gem/Desktop/Corrosion Data cropped/Mono/Depth/Depth_mono_9.png', '/Users/gem/Desktop/Corrosion Data cropped/Mono/Depth/Depth_mono_10.png', '/Users/gem/Desktop/Corrosion Data cropped/Mono/Depth/Depth_mono_11.png', '/Users/gem/Desktop/Corrosion Data cropped/Mono/Depth/Depth_mono_12.png', '/Users/gem/Desktop/Corrosion Data cropped/Mono/Depth/Depth_mono_13.png', '/Users/gem/Desktop/Corrosion Data cropped/Mono/Depth/Depth_mono_14.png', '/Users/gem/Desktop/Corrosion Data cropped/Mono/Depth/Depth_mono_15.png', '/Users/gem/Desktop/Corrosion Data cropped/Mono/Depth/Depth_mono_16.png', '/Users/gem/Desktop/Corrosion Data cropped/Mono/Depth/Depth_mono_17.png', '/Users/gem/Desktop/Corrosion Data cropped/Mono/Depth/Depth_mono_18.png', '/Users/gem/Desktop/Corrosion Data cropped/Mono/Depth/Depth_mono_19.png', '/Users/gem/Desktop/Corrosion Data cropped/Mono/Depth/Depth_mono_20.png', '/Users/gem/Desktop/Corrosion Data cropped/Mono/Depth/Depth_mono_21.png', '/Users/gem/Desktop/Corrosion Data cropped/Mono/Depth/Depth_mono_22.png', '/Users/gem/Desktop/Corrosion Data cropped/Mono/Depth/Depth_mono_23.png', '/Users/gem/Desktop/Corrosion Data cropped/Mono/Depth/Depth_mono_24.png', '/Users/gem/Desktop/Corrosion Data cropped/Mono/Depth/Depth_mono_25.png']\n",
      "['/Users/gem/Desktop/Corrosion Data cropped/Non Mono/Ground Truth/gt_non_1.png', '/Users/gem/Desktop/Corrosion Data cropped/Non Mono/Ground Truth/gt_non_2.png', '/Users/gem/Desktop/Corrosion Data cropped/Non Mono/Ground Truth/gt_non_3.png', '/Users/gem/Desktop/Corrosion Data cropped/Non Mono/Ground Truth/gt_non_4.png', '/Users/gem/Desktop/Corrosion Data cropped/Non Mono/Ground Truth/gt_non_5.png', '/Users/gem/Desktop/Corrosion Data cropped/Non Mono/Ground Truth/gt_non_6.png', '/Users/gem/Desktop/Corrosion Data cropped/Non Mono/Ground Truth/gt_non_7.png', '/Users/gem/Desktop/Corrosion Data cropped/Non Mono/Ground Truth/gt_non_8.png', '/Users/gem/Desktop/Corrosion Data cropped/Non Mono/Ground Truth/gt_non_9.png', '/Users/gem/Desktop/Corrosion Data cropped/Non Mono/Ground Truth/gt_non_10.png', '/Users/gem/Desktop/Corrosion Data cropped/Non Mono/Ground Truth/gt_non_11.png', '/Users/gem/Desktop/Corrosion Data cropped/Non Mono/Ground Truth/gt_non_12.png', '/Users/gem/Desktop/Corrosion Data cropped/Non Mono/Ground Truth/gt_non_13.png', '/Users/gem/Desktop/Corrosion Data cropped/Non Mono/Ground Truth/gt_non_14.png', '/Users/gem/Desktop/Corrosion Data cropped/Non Mono/Ground Truth/gt_non_15.png', '/Users/gem/Desktop/Corrosion Data cropped/Non Mono/Ground Truth/gt_non_16.png', '/Users/gem/Desktop/Corrosion Data cropped/Non Mono/Ground Truth/gt_non_17.png', '/Users/gem/Desktop/Corrosion Data cropped/Non Mono/Ground Truth/gt_non_18.png', '/Users/gem/Desktop/Corrosion Data cropped/Non Mono/Ground Truth/gt_non_19.png', '/Users/gem/Desktop/Corrosion Data cropped/Non Mono/Ground Truth/gt_non_20.png', '/Users/gem/Desktop/Corrosion Data cropped/Non Mono/Ground Truth/gt_non_21.png', '/Users/gem/Desktop/Corrosion Data cropped/Non Mono/Ground Truth/gt_non_22.png', '/Users/gem/Desktop/Corrosion Data cropped/Non Mono/Ground Truth/gt_non_23.png', '/Users/gem/Desktop/Corrosion Data cropped/Non Mono/Ground Truth/gt_non_24.png', '/Users/gem/Desktop/Corrosion Data cropped/Non Mono/Ground Truth/gt_non_25.png']\n",
      "['/Users/gem/Desktop/Corrosion Data cropped/Non Mono/Depth/Depth_non_1.png', '/Users/gem/Desktop/Corrosion Data cropped/Non Mono/Depth/Depth_non_2.png', '/Users/gem/Desktop/Corrosion Data cropped/Non Mono/Depth/Depth_non_3.png', '/Users/gem/Desktop/Corrosion Data cropped/Non Mono/Depth/Depth_non_4.png', '/Users/gem/Desktop/Corrosion Data cropped/Non Mono/Depth/Depth_non_5.png', '/Users/gem/Desktop/Corrosion Data cropped/Non Mono/Depth/Depth_non_6.png', '/Users/gem/Desktop/Corrosion Data cropped/Non Mono/Depth/Depth_non_7.png', '/Users/gem/Desktop/Corrosion Data cropped/Non Mono/Depth/Depth_non_8.png', '/Users/gem/Desktop/Corrosion Data cropped/Non Mono/Depth/Depth_non_9.png', '/Users/gem/Desktop/Corrosion Data cropped/Non Mono/Depth/Depth_non_10.png', '/Users/gem/Desktop/Corrosion Data cropped/Non Mono/Depth/Depth_non_11.png', '/Users/gem/Desktop/Corrosion Data cropped/Non Mono/Depth/Depth_non_12.png', '/Users/gem/Desktop/Corrosion Data cropped/Non Mono/Depth/Depth_non_13.png', '/Users/gem/Desktop/Corrosion Data cropped/Non Mono/Depth/Depth_non_14.png', '/Users/gem/Desktop/Corrosion Data cropped/Non Mono/Depth/Depth_non_15.png', '/Users/gem/Desktop/Corrosion Data cropped/Non Mono/Depth/Depth_non_16.png', '/Users/gem/Desktop/Corrosion Data cropped/Non Mono/Depth/Depth_non_17.png', '/Users/gem/Desktop/Corrosion Data cropped/Non Mono/Depth/Depth_non_18.png', '/Users/gem/Desktop/Corrosion Data cropped/Non Mono/Depth/Depth_non_19.png', '/Users/gem/Desktop/Corrosion Data cropped/Non Mono/Depth/Depth_non_20.png', '/Users/gem/Desktop/Corrosion Data cropped/Non Mono/Depth/Depth_non_21.png', '/Users/gem/Desktop/Corrosion Data cropped/Non Mono/Depth/Depth_non_22.png', '/Users/gem/Desktop/Corrosion Data cropped/Non Mono/Depth/Depth_non_23.png', '/Users/gem/Desktop/Corrosion Data cropped/Non Mono/Depth/Depth_non_24.png', '/Users/gem/Desktop/Corrosion Data cropped/Non Mono/Depth/Depth_non_25.png']\n"
     ]
    }
   ],
   "source": [
    "#evaluate the paths\n",
    "print(a)\n",
    "print(b)\n",
    "print(c)\n",
    "print(d)"
   ]
  },
  {
   "cell_type": "code",
   "execution_count": 5,
   "metadata": {},
   "outputs": [],
   "source": [
    "#run this cell to remove unwanted items in each list\n",
    "\n",
    "a.remove('.DS_Store')\n",
    "b.remove('.DS_Store')\n",
    "c.remove('.DS_Store')\n",
    "d.remove('.DS_Store')"
   ]
  },
  {
   "cell_type": "code",
   "execution_count": 7,
   "metadata": {},
   "outputs": [],
   "source": [
    "#run this cell to append the full path to each item in each list\n",
    "\n",
    "\n",
    "for i in range(len(a)):\n",
    "    a[i] = path + 'Mono/Ground Truth/' + a[i]\n",
    "for i in range(len(b)):\n",
    "    b[i] = path + 'Mono/Depth/' + b[i]\n",
    "for i in range(len(c)):\n",
    "    c[i] = path + 'Non Mono/Ground Truth/' + c[i]\n",
    "for i in range(len(d)):\n",
    "    d[i] = path + 'Non Mono/Depth/' + d[i]"
   ]
  },
  {
   "cell_type": "code",
   "execution_count": 11,
   "metadata": {},
   "outputs": [],
   "source": [
    "#using the dakpy module to get the training images for the mono dataset. Each training image has a raduis of 5\n",
    "#and a center pixel to classify and is therefore 11X11. That paramter could be changed here in the get_train fuction \n",
    "#if a differnt size training patch is desired\n",
    "data = []\n",
    "for i, j in zip(a,b):\n",
    "    data.append(dakpy.get_train(i, j, 5))"
   ]
  },
  {
   "cell_type": "code",
   "execution_count": 12,
   "metadata": {},
   "outputs": [],
   "source": [
    "#using the dakpy module to get the training images for the non mono dataset.\n",
    "data1 = []\n",
    "for i, j in zip(c,d):\n",
    "    data1.append(dakpy.get_train(i, j, 5))"
   ]
  },
  {
   "cell_type": "code",
   "execution_count": 13,
   "metadata": {},
   "outputs": [],
   "source": [
    "t = []\n",
    "for i in range(25):      \n",
    "    t.append(data[i][1])"
   ]
  },
  {
   "cell_type": "code",
   "execution_count": 14,
   "metadata": {},
   "outputs": [],
   "source": [
    "t1 = []\n",
    "for i in range(25):\n",
    "    t1.append(data1[i][1])"
   ]
  },
  {
   "cell_type": "code",
   "execution_count": 15,
   "metadata": {},
   "outputs": [],
   "source": [
    "z1_train = np.concatenate(t, axis=0)"
   ]
  },
  {
   "cell_type": "code",
   "execution_count": 16,
   "metadata": {},
   "outputs": [],
   "source": [
    "z2_train = np.concatenate(t1, axis=0)"
   ]
  },
  {
   "cell_type": "code",
   "execution_count": 17,
   "metadata": {},
   "outputs": [],
   "source": [
    "h = []\n",
    "for i in range(25): \n",
    "    h.append(data[i][0][:, 0])"
   ]
  },
  {
   "cell_type": "code",
   "execution_count": 18,
   "metadata": {},
   "outputs": [],
   "source": [
    "h1 = []\n",
    "for i in range(25):\n",
    "    h1.append(data1[i][0][:, 0])"
   ]
  },
  {
   "cell_type": "code",
   "execution_count": 19,
   "metadata": {},
   "outputs": [],
   "source": [
    "w1_train = np.concatenate(h, axis=None)"
   ]
  },
  {
   "cell_type": "code",
   "execution_count": 20,
   "metadata": {},
   "outputs": [],
   "source": [
    "w2_train = np.concatenate(h1, axis=None)"
   ]
  },
  {
   "cell_type": "code",
   "execution_count": 21,
   "metadata": {},
   "outputs": [],
   "source": [
    "z_train = np.concatenate((z1_train, z2_train), axis=0)"
   ]
  },
  {
   "cell_type": "code",
   "execution_count": 22,
   "metadata": {},
   "outputs": [],
   "source": [
    "w_train = np.concatenate((w1_train, w2_train), axis=None)"
   ]
  },
  {
   "cell_type": "code",
   "execution_count": 23,
   "metadata": {},
   "outputs": [
    {
     "data": {
      "text/plain": [
       "(199885, 11, 11)"
      ]
     },
     "execution_count": 23,
     "metadata": {},
     "output_type": "execute_result"
    }
   ],
   "source": [
    "z_train.shape"
   ]
  },
  {
   "cell_type": "code",
   "execution_count": 24,
   "metadata": {},
   "outputs": [
    {
     "data": {
      "text/plain": [
       "(199885,)"
      ]
     },
     "execution_count": 24,
     "metadata": {},
     "output_type": "execute_result"
    }
   ],
   "source": [
    "w_train.shape"
   ]
  },
  {
   "cell_type": "code",
   "execution_count": 25,
   "metadata": {},
   "outputs": [],
   "source": [
    "x_train, x_test, y_train, y_test = train_test_split(z_train, w_train, test_size = .2)"
   ]
  },
  {
   "cell_type": "code",
   "execution_count": 26,
   "metadata": {},
   "outputs": [],
   "source": [
    "#Give the negative labels 0 rather than -1\n",
    "\n",
    "for i in range(len(y_train)):\n",
    "    if y_train[i] < 0:\n",
    "        y_train[i] = 0\n",
    "for i in range(len(y_test)):\n",
    "    if y_test[i] < 0:\n",
    "        y_test[i] = 0"
   ]
  },
  {
   "cell_type": "code",
   "execution_count": null,
   "metadata": {},
   "outputs": [
    {
     "name": "stdout",
     "output_type": "stream",
     "text": [
      "x_train shape: (159908, 11, 11, 1)\n",
      "159908 train samples\n",
      "39977 test samples\n",
      "Train on 159908 samples, validate on 39977 samples\n",
      "Epoch 1/10\n",
      "159908/159908 [==============================] - 41s 253us/step - loss: 0.2513 - acc: 0.5276 - val_loss: 0.2467 - val_acc: 0.5178\n",
      "Epoch 2/10\n",
      "159908/159908 [==============================] - 39s 246us/step - loss: 0.2421 - acc: 0.5706 - val_loss: 0.2481 - val_acc: 0.5466\n",
      "Epoch 3/10\n",
      "159908/159908 [==============================] - 47s 295us/step - loss: 0.2406 - acc: 0.5763 - val_loss: 0.2391 - val_acc: 0.5789\n",
      "Epoch 4/10\n",
      "159908/159908 [==============================] - 44s 277us/step - loss: 0.2401 - acc: 0.5768 - val_loss: 0.2511 - val_acc: 0.5222\n",
      "Epoch 5/10\n",
      "159908/159908 [==============================] - 41s 259us/step - loss: 0.2394 - acc: 0.5784 - val_loss: 0.2505 - val_acc: 0.5178\n",
      "Epoch 6/10\n",
      "159908/159908 [==============================] - 42s 261us/step - loss: 0.2388 - acc: 0.5791 - val_loss: 0.2421 - val_acc: 0.5842\n",
      "Epoch 7/10\n",
      "159908/159908 [==============================] - 40s 253us/step - loss: 0.2387 - acc: 0.5787 - val_loss: 0.2349 - val_acc: 0.5889\n",
      "Epoch 8/10\n",
      "100224/159908 [=================>............] - ETA: 14s - loss: 0.2378 - acc: 0.5815"
     ]
    }
   ],
   "source": [
    "#The CNN\n",
    "\n",
    "\n",
    "batch_size = 128\n",
    "num_classes = 2\n",
    "epochs = 10\n",
    "\n",
    "# input image dimensions\n",
    "img_rows, img_cols = 11, 11\n",
    "\n",
    "if K.image_data_format() == 'channels_first':\n",
    "    x_train = x_train.reshape(x_train.shape[0], 1, img_rows, img_cols)\n",
    "    x_test = x_test.reshape(x_test.shape[0], 1, img_rows, img_cols)\n",
    "    input_shape = (1, img_rows, img_cols)\n",
    "else:\n",
    "    x_train = x_train.reshape(x_train.shape[0], img_rows, img_cols, 1)\n",
    "    x_test = x_test.reshape(x_test.shape[0], img_rows, img_cols, 1)\n",
    "    input_shape = (img_rows, img_cols, 1)\n",
    "\n",
    "#parse the data type to 32 bit floats and normalize. The input images have been read in as 16 bit integers from the\n",
    "#dakpy module\n",
    "x_train = x_train.astype('float32')\n",
    "x_test = x_test.astype('float32')\n",
    "x_train /= 65535\n",
    "x_test /= 65535\n",
    "\n",
    "print('x_train shape:', x_train.shape)\n",
    "print(x_train.shape[0], 'train samples')\n",
    "print(x_test.shape[0], 'test samples')\n",
    "\n",
    "# convert class vectors to binary class matrices for use in categorical crossentropy\n",
    "#y_train = keras.utils.to_categorical(y_train, num_classes)\n",
    "#y_test = keras.utils.to_categorical(y_test, num_classes)\n",
    "\n",
    "model = Sequential()\n",
    "model.add(Conv2D(32, kernel_size=(3, 3),\n",
    "                 activation='relu',\n",
    "                 input_shape=input_shape))\n",
    "model.add(Conv2D(64, (3, 3), activation='relu'))\n",
    "model.add(MaxPooling2D(pool_size=(2, 2)))\n",
    "model.add(Dropout(0.25))\n",
    "model.add(Flatten())\n",
    "model.add(Dense(128, activation='relu'))\n",
    "model.add(Dropout(0.5))\n",
    "model.add(Dense(1, activation='tanh'))\n",
    "\n",
    "model.compile(loss=keras.losses.mean_squared_error,\n",
    "              optimizer=keras.optimizers.Adadelta(),\n",
    "              metrics=['accuracy'])\n",
    "\n",
    "history = model.fit(x_train, y_train,\n",
    "          batch_size=batch_size,\n",
    "          epochs=epochs,\n",
    "          verbose=1,\n",
    "          validation_data=(x_test, y_test))\n",
    "score = model.evaluate(x_test, y_test, verbose=0)\n",
    "print('Test loss:', score[0])\n",
    "print('Test accuracy:', score[1])"
   ]
  },
  {
   "cell_type": "code",
   "execution_count": null,
   "metadata": {},
   "outputs": [],
   "source": [
    "p_1 = model.predict(z1_train.reshape(z1_train.shape[0], 11, 11, 1))"
   ]
  },
  {
   "cell_type": "code",
   "execution_count": null,
   "metadata": {},
   "outputs": [],
   "source": [
    "p_1 = np.delete(p_1, 1, 1)"
   ]
  },
  {
   "cell_type": "code",
   "execution_count": null,
   "metadata": {},
   "outputs": [],
   "source": [
    "p_1 = p_1.reshape(400, 400)"
   ]
  },
  {
   "cell_type": "code",
   "execution_count": null,
   "metadata": {},
   "outputs": [],
   "source": [
    "np.unique(keras.utils.to_categorical(w1_train, 2))"
   ]
  }
 ],
 "metadata": {
  "kernelspec": {
   "display_name": "Python 3",
   "language": "python",
   "name": "python3"
  },
  "language_info": {
   "codemirror_mode": {
    "name": "ipython",
    "version": 3
   },
   "file_extension": ".py",
   "mimetype": "text/x-python",
   "name": "python",
   "nbconvert_exporter": "python",
   "pygments_lexer": "ipython3",
   "version": "3.6.4"
  }
 },
 "nbformat": 4,
 "nbformat_minor": 2
}
